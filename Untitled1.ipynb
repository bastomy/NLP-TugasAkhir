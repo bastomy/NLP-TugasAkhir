{
 "cells": [
  {
   "cell_type": "code",
   "execution_count": null,
   "metadata": {},
   "outputs": [],
   "source": [
    "import tweepy\n",
    "import csv\n",
    "\n",
    "class Services:\n",
    "\n",
    "    def __init__(self):\n",
    "        self.consumer_key = 'aqh26LmWvnCwEqoWnBkNDgq3X'\n",
    "        self.consumer_secret = 'WLTGI57tcvei5AwtZNxiyrqDmTqhmVEaeQlXhknzIFZBym58Fv'\n",
    "        self.access_token = '232106297-SLMzoxQqdrOboZlOs8VLShayem1FUr99pGE8Y8Wi'\n",
    "        self.access_token_secret = '8qlseHuNKDsnIVnxuxDZcXfjDepCrWDcp5U1JtZ4PfOU9'\n",
    "        self.auth = tweepy.OAuthHandler(self.consumer_key, self.consumer_secret)\n",
    "        self.auth.set_access_token(self.access_token, self.access_token_secret)\n",
    "        self.api = tweepy.API(self.auth, wait_on_rate_limit=True, wait_on_rate_limit_notify=True)\n",
    "\n",
    "    def getData(self,parameter):\n",
    "        print(\"starting\")\n",
    "        i = 0\n",
    "        with open('review.csv', 'w', newline='') as csvFile:\n",
    "            writer = csv.writer(csvFile)\n",
    "            row = [\"ID Tweet\", \"ID User\", \"Screen Name\", \"Tweet\", \"Timestamp\"]\n",
    "            writer.writerow(row)\n",
    "            for post in tweepy.Cursor(self.api.search, q=parameter, tweet_mode='extended').items():\n",
    "                try:\n",
    "                    if (post.retweet_count == 0):\n",
    "                        if i <= 99 :\n",
    "                            row = [post.id_str.encode('utf-8'), post.user.id_str.encode('utf-8'), post.user.screen_name,\n",
    "                                   post.full_text.encode('utf-8'), post.created_at]\n",
    "                            writer.writerow(row)\n",
    "                        else:\n",
    "                            break\n",
    "                        i = i + 1\n",
    "                        print(i, \" tweet downloaded \", post.created_at)\n",
    "                except tweepy.RateLimitError:\n",
    "                    print(\"sleep\")\n",
    "                except tweepy.TweepError as e:\n",
    "                    print('tweepy error')\n",
    "                    print(e.reason)\n",
    "                    continue\n",
    "                except StopIteration:  # stop iteration when last tweet is reached\n",
    "                    print('habis')\n",
    "                    break\n",
    "        csvFile.close()\n",
    "        return True\n",
    "\n",
    "mention = \"@prabowo\"\n",
    "if (Services().getData(mention)):\n",
    "    print(\"successfully\")\n",
    "else:\n",
    "    print(\"failed\")"
   ]
  }
 ],
 "metadata": {
  "kernelspec": {
   "display_name": "Python 3",
   "language": "python",
   "name": "python3"
  },
  "language_info": {
   "codemirror_mode": {
    "name": "ipython",
    "version": 3
   },
   "file_extension": ".py",
   "mimetype": "text/x-python",
   "name": "python",
   "nbconvert_exporter": "python",
   "pygments_lexer": "ipython3",
   "version": "3.7.3"
  }
 },
 "nbformat": 4,
 "nbformat_minor": 2
}
